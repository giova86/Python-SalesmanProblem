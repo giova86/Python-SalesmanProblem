{
 "cells": [
  {
   "cell_type": "markdown",
   "metadata": {},
   "source": [
    "## Import Libraries"
   ]
  },
  {
   "cell_type": "code",
   "execution_count": 1,
   "metadata": {
    "scrolled": true
   },
   "outputs": [],
   "source": [
    "import numpy as np\n",
    "import random\n",
    "import operator \n",
    "import pandas as pd \n",
    "import matplotlib.pyplot as plt\n",
    "from IPython.display import display, clear_output\n",
    "\n",
    "\n",
    "from IPython.display import clear_output"
   ]
  },
  {
   "cell_type": "markdown",
   "metadata": {},
   "source": [
    "## Create classes and functions"
   ]
  },
  {
   "cell_type": "markdown",
   "metadata": {},
   "source": [
    "Create class to handle \"cities\". The input parameters are:\n",
    "- x coordinate\n",
    "- y coordinate\n",
    "\n",
    "Several distances are implemented"
   ]
  },
  {
   "cell_type": "code",
   "execution_count": 2,
   "metadata": {
    "scrolled": true
   },
   "outputs": [],
   "source": [
    "class City:\n",
    "    def __init__(self, x, y):\n",
    "        self.x = x\n",
    "        self.y = y\n",
    "    \n",
    "    def distance(self, city):\n",
    "        xDis = abs(self.x - city.x)\n",
    "        yDis = abs(self.y - city.y)\n",
    "        distance = np.sqrt((xDis ** 2) + (yDis ** 2))\n",
    "        return distance\n",
    "\n",
    "    def distance_manhattan(self, city):\n",
    "        xDis = abs(self.x - city.x)\n",
    "        yDis = abs(self.y - city.y)\n",
    "        distance = xDis + yDis\n",
    "        return distance\n",
    "    \n",
    "    def __repr__(self):\n",
    "        return \"(\" + str(self.x) + \",\" + str(self.y) + \")\"\n",
    "\n",
    "# ---------------------------------------------------------------------- #\n",
    "#city1 = City(2,3)\n",
    "#city2 = City(5,1)\n",
    "#print('The distance between city1 and city2 is: ' + str(city1.distance(city2)))"
   ]
  },
  {
   "cell_type": "markdown",
   "metadata": {},
   "source": [
    "Create a fitness function. The input is list of the route and the fitness is define as the inverse of the total path.\n",
    "\n",
    "Input:\n",
    "- route = individual (list of cities)\n",
    "\n",
    "Output:\n",
    "- routeDistance = length of the route\n",
    "- routeFitness = 1/length of the route"
   ]
  },
  {
   "cell_type": "code",
   "execution_count": 3,
   "metadata": {
    "scrolled": true
   },
   "outputs": [],
   "source": [
    "class Fitness:\n",
    "    def __init__(self, route):\n",
    "        self.route = route\n",
    "        self.distance = 0\n",
    "        self.fitness = 0.0\n",
    "    \n",
    "    def routeDistance(self):\n",
    "        if self.distance == 0:\n",
    "            pathDistance = 0\n",
    "            for i in range(0, len(self.route)):\n",
    "                fromCity = self.route[i]\n",
    "                toCity = None\n",
    "                if i + 1 < len(self.route):\n",
    "                    toCity = self.route[i + 1]\n",
    "                else:\n",
    "                    toCity = self.route[0]\n",
    "                pathDistance += fromCity.distance(toCity)\n",
    "            self.distance = pathDistance\n",
    "        return self.distance\n",
    "    \n",
    "    def routeFitness(self):\n",
    "        if self.fitness == 0:\n",
    "            self.fitness = 1 / float(self.routeDistance())\n",
    "        return self.fitness\n",
    "\n",
    "# ---------------------------------------------------------------------- #\n",
    "#city1 = City(2,6)\n",
    "#city2 = City(5,1)\n",
    "#canc = Fitness(createRoute([city1, city2]))\n",
    "#print('Fitness = ', canc.routeFitness())\n",
    "#print('Distance = ', canc.routeDistance())"
   ]
  },
  {
   "cell_type": "markdown",
   "metadata": {},
   "source": [
    "## Create our initial population"
   ]
  },
  {
   "cell_type": "markdown",
   "metadata": {},
   "source": [
    "Route generator. This function 'createRoute' accepts a list of cities and randomize it.\n",
    "\n",
    "Input:\n",
    "- list of cities = [(city1, city2, city3)]\n",
    "\n",
    "Output:\n",
    "- list of cities = [(city2, city3, city1)]"
   ]
  },
  {
   "cell_type": "code",
   "execution_count": 4,
   "metadata": {
    "scrolled": true
   },
   "outputs": [],
   "source": [
    "def createRoute(cityList):\n",
    "    #route = cityList\n",
    "    route = random.sample(cityList, len(cityList))\n",
    "    return route\n",
    "\n",
    "# ---------------------------------------------------------------------- #\n",
    "#city1 = City(2,6)\n",
    "#city2 = City(5,1)\n",
    "#city3 = City(2,3)\n",
    "#city4 = City(8,7)\n",
    "#createRoute([city1, city2, city3, city4])"
   ]
  },
  {
   "cell_type": "markdown",
   "metadata": {},
   "source": [
    "Create first \"population\" (list of routes)\n",
    "\n",
    "Input:\n",
    "- popSize = # of individuals\n",
    "- cityList = list of cities\n",
    "\n",
    "Output:\n",
    "- list of n (individuals) lists "
   ]
  },
  {
   "cell_type": "code",
   "execution_count": 5,
   "metadata": {
    "scrolled": true
   },
   "outputs": [],
   "source": [
    "def initialPopulation(popSize, cityList):\n",
    "    population = [createRoute(cityList) for i in range(0,popSize)]\n",
    "    return population\n",
    "\n",
    "# ---------------------------------------------------------------------- #\n",
    "#city1 = City(2,6)\n",
    "#city2 = City(5,1)\n",
    "#city3 = City(2,3)\n",
    "#city4 = City(8,7)\n",
    "#initialPopulation(3,[city1, city2, city3, city4])"
   ]
  },
  {
   "cell_type": "markdown",
   "metadata": {},
   "source": [
    "## Create the genetic algorithm"
   ]
  },
  {
   "cell_type": "markdown",
   "metadata": {},
   "source": [
    "Rank individuals. It returns a list of m (m = PopSize) tuples with the individual index and the fitness value. The list is ordered by fitness.\n",
    "\n",
    "Input:\n",
    "- populations = list of individuals\n",
    "\n",
    "Output:\n",
    "- [(index_individual, fitness),(index_individual, fitness),(index_individual, fitness),...,(index_individual, fitness)]"
   ]
  },
  {
   "cell_type": "code",
   "execution_count": 6,
   "metadata": {
    "scrolled": true
   },
   "outputs": [],
   "source": [
    "def rankRoutes(population):\n",
    "    fitnessResults = {}\n",
    "    for i in range(0,len(population)):\n",
    "        fitnessResults[i] = Fitness(population[i]).routeFitness()\n",
    "    return sorted(fitnessResults.items(), key = operator.itemgetter(1), reverse = True)\n",
    "\n",
    "# ---------------------------------------------------------------------- #\n",
    "#city1 = City(2,6)\n",
    "#city2 = City(5,1)\n",
    "#city3 = City(2,3)\n",
    "#city4 = City(8,7)\n",
    "#pop = initialPopulation(3,[city1, city2, city3, city4])\n",
    "#rankRoutes(pop)"
   ]
  },
  {
   "cell_type": "markdown",
   "metadata": {},
   "source": [
    "Create a selection function that will be used to make the list of parent routes.\n",
    "\n",
    "Input:\n",
    "- popRanked: list of tuples (2 values) with the index and the the fitness value\n",
    "- eliteSize: # of parents to include by default\n",
    "\n",
    "Output:\n",
    "- list of individuals indexes"
   ]
  },
  {
   "cell_type": "code",
   "execution_count": 7,
   "metadata": {
    "scrolled": true
   },
   "outputs": [],
   "source": [
    "def selection(popRanked, eliteSize):\n",
    "    selectionResults = []\n",
    "    # convert the list of tuples into a dataframe labeling the 2 columns\n",
    "    df = pd.DataFrame(np.array(popRanked), columns=[\"Index\",\"Fitness\"])\n",
    "    \n",
    "    # add 2 columns: cumulative sum and normalized cumulative sum (roulette)\n",
    "    df['cum_sum'] = df.Fitness.cumsum()\n",
    "    df['cum_perc'] = 100*df.cum_sum/df.Fitness.sum()\n",
    "    \n",
    "    # save the first n (n = eliteSize) indexes. Best performers are selected as parents!\n",
    "    for i in range(0, eliteSize):\n",
    "        selectionResults.append(popRanked[i][0])\n",
    "    \n",
    "    # roulette\n",
    "    for i in range(0, len(popRanked) - eliteSize):\n",
    "        pick = 100*random.random()\n",
    "        for i in range(0, len(popRanked)):\n",
    "            if pick <= df.iat[i,3]:\n",
    "                selectionResults.append(popRanked[i][0])\n",
    "                break\n",
    "    return selectionResults\n",
    "\n",
    "# ---------------------------------------------------------------------- #\n",
    "#city1 = City(2,6)\n",
    "#city2 = City(5,1)\n",
    "#city3 = City(2,3)\n",
    "#city4 = City(8,7)\n",
    "#pop = initialPopulation(8,[city1, city2, city3, city4])\n",
    "#rank = rankRoutes(pop)\n",
    "#selRes = selection(rank, 4)\n",
    "#print(rank)\n",
    "#print('populat:',[rank[i][0] for i in range(len(rank))])\n",
    "#print('parents:', selRes)"
   ]
  },
  {
   "cell_type": "markdown",
   "metadata": {},
   "source": [
    "Create mating pool. Mating pool is the parents population. \n",
    "\n",
    "Input:\n",
    "- population\n",
    "- selectionResults\n",
    "\n",
    "Output:\n",
    "- matingpool"
   ]
  },
  {
   "cell_type": "code",
   "execution_count": 8,
   "metadata": {
    "scrolled": true
   },
   "outputs": [],
   "source": [
    "def matingPool(population, selectionResults):\n",
    "    matingpool = []\n",
    "    for i in range(0, len(selectionResults)):\n",
    "        index = selectionResults[i]\n",
    "        matingpool.append(population[index])\n",
    "    return matingpool\n",
    "\n",
    "# ---------------------------------------------------------------------- #\n",
    "#city1 = City(2,6)\n",
    "#city2 = City(5,1)\n",
    "#city3 = City(2,3)\n",
    "#city4 = City(8,7)\n",
    "#pop = initialPopulation(8,[city1, city2, city3, city4])\n",
    "#rank = rankRoutes(pop)\n",
    "#selRes = selection(rank, 4)\n",
    "#matingPool(pop, selRes)"
   ]
  },
  {
   "cell_type": "markdown",
   "metadata": {},
   "source": [
    "Create a crossover function for two parents to create one child.\n",
    "\n",
    "Input:\n",
    "- parent1 = individual 1\n",
    "- parent2 = individual 2\n",
    "\n",
    "Output:\n",
    "- child = new individual"
   ]
  },
  {
   "cell_type": "code",
   "execution_count": 9,
   "metadata": {
    "scrolled": true
   },
   "outputs": [],
   "source": [
    "def breed(parent1, parent2):\n",
    "    child = []\n",
    "    childP1 = []\n",
    "    childP2 = []\n",
    "    \n",
    "    geneA = int(random.random() * len(parent1))\n",
    "    geneB = int(random.random() * len(parent1))\n",
    "    \n",
    "    startGene = min(geneA, geneB)\n",
    "    endGene = max(geneA, geneB)\n",
    "\n",
    "    for i in range(startGene, endGene):\n",
    "        childP1.append(parent1[i])\n",
    "        \n",
    "    childP2 = [item for item in parent2 if item not in childP1]\n",
    "\n",
    "    child = childP1 + childP2\n",
    "    return child\n",
    "\n",
    "# ---------------------------------------------------------------------- #\n",
    "#city1 = City(2,6)\n",
    "#city2 = City(5,1)\n",
    "#city3 = City(2,3)\n",
    "#city4 = City(8,7)\n",
    "#pop = initialPopulation(8,[city1, city2, city3, city4])\n",
    "#breed(pop[1],pop[2])"
   ]
  },
  {
   "cell_type": "markdown",
   "metadata": {},
   "source": [
    "Create function to run crossover over full mating pool.\n",
    "\n",
    "Input:\n",
    "- matingpool = \n",
    "- eliteSize = \n",
    "\n",
    "Output:\n",
    "- children = "
   ]
  },
  {
   "cell_type": "code",
   "execution_count": 10,
   "metadata": {
    "scrolled": true
   },
   "outputs": [],
   "source": [
    "def breedPopulation(matingpool, eliteSize):\n",
    "    children = []\n",
    "    length = len(matingpool) - eliteSize\n",
    "    pool = random.sample(matingpool, len(matingpool))\n",
    "\n",
    "    for i in range(0,eliteSize):\n",
    "        children.append(matingpool[i])\n",
    "    \n",
    "    for i in range(0, length):\n",
    "        child = breed(pool[i], pool[len(matingpool)-i-1])\n",
    "        children.append(child)\n",
    "\n",
    "    return children"
   ]
  },
  {
   "cell_type": "markdown",
   "metadata": {},
   "source": [
    "Create function to mutate a single route. All the individuals can mutate. A mutation is a switch of the cities."
   ]
  },
  {
   "cell_type": "code",
   "execution_count": 11,
   "metadata": {
    "scrolled": true
   },
   "outputs": [],
   "source": [
    "def mutate(individual, mutationRate):\n",
    "    for swapped in range(len(individual)):\n",
    "        if(random.random() < mutationRate):\n",
    "            swapWith = int(random.random() * len(individual))\n",
    "            while swapWith==swapped:\n",
    "                swapWith = int(random.random() * len(individual))\n",
    "\n",
    "            # switch the 2 cities\n",
    "            city1 = individual[swapped]\n",
    "            city2 = individual[swapWith]          \n",
    "            individual[swapped] = city2\n",
    "            individual[swapWith] = city1\n",
    "            \n",
    "    return individual"
   ]
  },
  {
   "cell_type": "markdown",
   "metadata": {},
   "source": [
    "Create function to run mutation over entire population"
   ]
  },
  {
   "cell_type": "code",
   "execution_count": 12,
   "metadata": {
    "scrolled": true
   },
   "outputs": [],
   "source": [
    "def mutatePopulation(population, mutationRate):\n",
    "    mutatedPop = [mutate(population[ind], mutationRate) for ind in range(0, len(population))]\n",
    "    return mutatedPop"
   ]
  },
  {
   "cell_type": "markdown",
   "metadata": {},
   "source": [
    "Put all steps together to create the next generation"
   ]
  },
  {
   "cell_type": "code",
   "execution_count": 13,
   "metadata": {
    "scrolled": true
   },
   "outputs": [],
   "source": [
    "def nextGeneration(currentGen, eliteSize, mutationRate):\n",
    "    \n",
    "    popRanked = rankRoutes(currentGen)\n",
    "    #print('a:', popRanked)\n",
    "    selectionResults = selection(popRanked, eliteSize)\n",
    "    #print('b:', selectionResults)\n",
    "    matingpool = matingPool(currentGen, selectionResults)\n",
    "    #print('c', matingpool)\n",
    "    children = breedPopulation(matingpool, eliteSize)\n",
    "    #print('d', children)\n",
    "    nextGeneration = mutatePopulation(children, mutationRate)\n",
    "    #print('e', nextGeneration)\n",
    "    return nextGeneration"
   ]
  },
  {
   "cell_type": "markdown",
   "metadata": {},
   "source": [
    "Final step: create the genetic algorithm"
   ]
  },
  {
   "cell_type": "code",
   "execution_count": 14,
   "metadata": {
    "scrolled": true
   },
   "outputs": [],
   "source": [
    "def geneticAlgorithm(population, popSize, eliteSize, mutationRate, generations):\n",
    "    training = []\n",
    "    pop = initialPopulation(popSize, population)\n",
    "    print(\"Initial distance: \" + str(1 / rankRoutes(pop)[0][1]))\n",
    "    \n",
    "    fig = plt.figure(figsize=(15,4))\n",
    "    #plt.figure()\n",
    "    ax = fig.add_subplot(1,2,1)\n",
    "    ay = fig.add_subplot(1,2,2)\n",
    "    \n",
    "\n",
    "    for i in range(0, generations):\n",
    "        pop = nextGeneration(pop, eliteSize, mutationRate)\n",
    "        training.append(1 / rankRoutes(pop)[0][1])\n",
    "    \n",
    "        #output during the training\n",
    "        if i%10 == 0:\n",
    "            #clear_output()\n",
    "            print(\"Distance \" + str(i) + \" :\" + str(1 / rankRoutes(pop)[0][1]))\n",
    "            bestRouteIndex = rankRoutes(pop)[0][0]\n",
    "            bestRoute = np.array(pop[bestRouteIndex])\n",
    "            a = bestRoute\n",
    "            x = [a[0].x]\n",
    "            y = [a[0].y]\n",
    "\n",
    "            for i in np.arange(len(a)):\n",
    "                x.append(a[i].x) \n",
    "                y.append(a[i].y) \n",
    "\n",
    "            ax.cla()\n",
    "            ax.plot(x,y, '-o')\n",
    "            \n",
    "            ay.cla()\n",
    "            ay.plot(range(len(training)),training)\n",
    "            \n",
    "            ax.set_ylabel('Distance')\n",
    "            ax.set_xlabel('Generation')\n",
    "            ax.set_xlim([0, 200])\n",
    "            ax.set_ylim([0, 200])\n",
    "\n",
    "\n",
    "            ay.set_ylabel('Fitness')\n",
    "            ay.set_xlabel('Generation')\n",
    "            ay.set_xlim([0, generations])\n",
    "            #ay.set_ylim([0, 3000])\n",
    "            \n",
    "            display(fig)\n",
    "            clear_output(wait=True)\n",
    "            #plt.pause(0.5)        #to be used for .py file\n",
    "    \n",
    "        \n",
    "    print(\"Final distance: \" + str(1 / rankRoutes(pop)[0][1]))\n",
    "    bestRouteIndex = rankRoutes(pop)[0][0]\n",
    "    bestRoute = np.array(pop[bestRouteIndex])\n",
    "\n",
    "    return bestRoute, training"
   ]
  },
  {
   "cell_type": "markdown",
   "metadata": {},
   "source": [
    "## Running the genetic algorithm"
   ]
  },
  {
   "cell_type": "markdown",
   "metadata": {},
   "source": [
    "Define input"
   ]
  },
  {
   "cell_type": "code",
   "execution_count": 16,
   "metadata": {
    "scrolled": true
   },
   "outputs": [],
   "source": [
    "num_cities = 25\n",
    "num_generations = 1500\n",
    "i_popSize = 70\n",
    "i_eliteSize = 30\n",
    "i_space = 200\n",
    "i_mutationRate = 0.01"
   ]
  },
  {
   "cell_type": "markdown",
   "metadata": {},
   "source": [
    "Create list of cities"
   ]
  },
  {
   "cell_type": "code",
   "execution_count": 17,
   "metadata": {
    "scrolled": true
   },
   "outputs": [],
   "source": [
    "cityList = [City(x=int(random.random() * i_space), y=int(random.random() * i_space))for i in range(0,num_cities)]\n",
    "    \n",
    "#cityList"
   ]
  },
  {
   "cell_type": "markdown",
   "metadata": {},
   "source": [
    "Run the genetic algorithm"
   ]
  },
  {
   "cell_type": "code",
   "execution_count": 18,
   "metadata": {
    "scrolled": true
   },
   "outputs": [
    {
     "name": "stdout",
     "output_type": "stream",
     "text": [
      "Final distance: 726.9822080867095\n"
     ]
    },
    {
     "data": {
      "image/png": "[encoded data removed]",
      "text/plain": [
       "<Figure size 1080x288 with 2 Axes>"
      ]
     },
     "metadata": {
      "needs_background": "light"
     },
     "output_type": "display_data"
    }
   ],
   "source": [
    "path, progress = geneticAlgorithm(population=cityList, \n",
    "                        popSize=i_popSize, \n",
    "                        eliteSize=i_eliteSize, \n",
    "                        mutationRate=i_mutationRate, \n",
    "                        generations=num_generations)"
   ]
  },
  {
   "cell_type": "markdown",
   "metadata": {},
   "source": [
    "## Plot the progress"
   ]
  },
  {
   "cell_type": "code",
   "execution_count": 143,
   "metadata": {},
   "outputs": [
    {
     "data": {
      "text/plain": [
       "[<matplotlib.lines.Line2D at 0x111e41cf8>]"
      ]
     },
     "execution_count": 143,
     "metadata": {},
     "output_type": "execute_result"
    },
    {
     "data": {
      "image/png": "[encoded data removed]",
      "text/plain": [
       "<Figure size 1080x720 with 1 Axes>"
      ]
     },
     "metadata": {
      "needs_background": "light"
     },
     "output_type": "display_data"
    }
   ],
   "source": [
    "plt.figure(figsize=(15,10))\n",
    "plt.ylabel('Distance')\n",
    "plt.xlabel('Generation')\n",
    "plt.plot(range(len(progress)),progress)"
   ]
  },
  {
   "cell_type": "markdown",
   "metadata": {},
   "source": [
    "#Note, this will win run a separate GA"
   ]
  },
  {
   "cell_type": "code",
   "execution_count": 42,
   "metadata": {
    "scrolled": true
   },
   "outputs": [],
   "source": [
    "#def geneticAlgorithmPlot(population, popSize, eliteSize, mutationRate, generations):\n",
    "#    pop = initialPopulation(popSize, population)\n",
    "#    progress = []\n",
    "#    progress.append(1 / rankRoutes(pop)[0][1])\n",
    "#    \n",
    "#    for i in range(0, generations):\n",
    "#        pop = nextGeneration(pop, eliteSize, mutationRate)\n",
    "#        progress.append(1 / rankRoutes(pop)[0][1])\n",
    "#    \n",
    "#    plt.plot(progress)\n",
    "#    plt.ylabel('Distance')\n",
    "#    plt.xlabel('Generation')\n",
    "#    plt.show()"
   ]
  },
  {
   "cell_type": "markdown",
   "metadata": {},
   "source": [
    "Run the function with our assumptions to see how distance has improved in each generation"
   ]
  },
  {
   "cell_type": "code",
   "execution_count": 43,
   "metadata": {
    "scrolled": true
   },
   "outputs": [],
   "source": [
    "#geneticAlgorithmPlot(population=cityList, \n",
    "#                     popSize=i_popSize, \n",
    "#                     eliteSize=i_eliteSize, \n",
    "#                     mutationRate=0.01, \n",
    "#                     generations=num_generations)"
   ]
  }
 ],
 "metadata": {
  "kernelspec": {
   "display_name": "Python 3",
   "language": "python",
   "name": "python3"
  },
  "language_info": {
   "codemirror_mode": {
    "name": "ipython",
    "version": 3
   },
   "file_extension": ".py",
   "mimetype": "text/x-python",
   "name": "python",
   "nbconvert_exporter": "python",
   "pygments_lexer": "ipython3",
   "version": "3.7.7"
  }
 },
 "nbformat": 4,
 "nbformat_minor": 4
}
